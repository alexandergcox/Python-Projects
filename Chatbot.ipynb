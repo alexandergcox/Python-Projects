{
 "cells": [
  {
   "cell_type": "code",
   "execution_count": 1,
   "id": "35a4cba9",
   "metadata": {},
   "outputs": [],
   "source": [
    "import random"
   ]
  },
  {
   "cell_type": "code",
   "execution_count": 2,
   "id": "d37fe2bd",
   "metadata": {},
   "outputs": [],
   "source": [
    "# List of sample responses\n",
    "responses = [\n",
    "    \"Hello!\",\n",
    "    \"Hi there!\",\n",
    "    \"Greetings!\",\n",
    "    \"Nice to meet you!\",\n",
    "    \"How can I assist you?\",\n",
    "    \"I'm here to help!\",\n",
    "    \"How are you today?\",\n",
    "]\n"
   ]
  },
  {
   "cell_type": "code",
   "execution_count": 3,
   "id": "093d29c4",
   "metadata": {},
   "outputs": [],
   "source": [
    "def get_random_response():\n",
    "    \"\"\"Return a random response from the list of sample responses.\"\"\"\n",
    "    return random.choice(responses)"
   ]
  },
  {
   "cell_type": "code",
   "execution_count": null,
   "id": "47053ca5",
   "metadata": {},
   "outputs": [
    {
     "name": "stdout",
     "output_type": "stream",
     "text": [
      "Chatbot: Hello! How can I assist you?\n",
      "Chatbot: How are you today?\n",
      "User: how are you\n",
      "Chatbot: Hi there!\n",
      "User: good\n",
      "Chatbot: Greetings!\n"
     ]
    }
   ],
   "source": [
    "def chat():\n",
    "    \"\"\"Main function to handle the chatbot conversation.\"\"\"\n",
    "    print(\"Chatbot: \" + get_random_response())\n",
    "\n",
    "    while True:\n",
    "        user_input = input(\"User: \")\n",
    "        \n",
    "        # Check if the user wants to end the conversation\n",
    "        if user_input.lower() == \"bye\":\n",
    "            print(\"Chatbot: Goodbye!\")\n",
    "            break\n",
    "        \n",
    "        # Generate and print a random response\n",
    "        print(\"Chatbot: \" + get_random_response())\n",
    "\n",
    "if __name__ == \"__main__\":\n",
    "    print(\"Chatbot: Hello! How can I assist you?\")\n",
    "    chat()"
   ]
  },
  {
   "cell_type": "code",
   "execution_count": null,
   "id": "7107bf1e",
   "metadata": {},
   "outputs": [],
   "source": []
  }
 ],
 "metadata": {
  "kernelspec": {
   "display_name": "Python 3 (ipykernel)",
   "language": "python",
   "name": "python3"
  },
  "language_info": {
   "codemirror_mode": {
    "name": "ipython",
    "version": 3
   },
   "file_extension": ".py",
   "mimetype": "text/x-python",
   "name": "python",
   "nbconvert_exporter": "python",
   "pygments_lexer": "ipython3",
   "version": "3.9.13"
  }
 },
 "nbformat": 4,
 "nbformat_minor": 5
}
