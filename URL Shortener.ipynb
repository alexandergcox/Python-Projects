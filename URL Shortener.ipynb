{
 "cells": [
  {
   "cell_type": "code",
   "execution_count": 1,
   "id": "bf46fed3",
   "metadata": {},
   "outputs": [],
   "source": [
    "from flask import Flask, redirect, render_template, request\n",
    "import string\n",
    "import random"
   ]
  },
  {
   "cell_type": "code",
   "execution_count": 2,
   "id": "61fd89bd",
   "metadata": {},
   "outputs": [],
   "source": [
    "app = Flask(__name__)\n"
   ]
  },
  {
   "cell_type": "code",
   "execution_count": 3,
   "id": "7385c13f",
   "metadata": {},
   "outputs": [],
   "source": [
    "# Dictionary to store the mappings of short codes to original URLs\n",
    "url_mapping = {}"
   ]
  },
  {
   "cell_type": "code",
   "execution_count": 4,
   "id": "98c39cf1",
   "metadata": {},
   "outputs": [],
   "source": [
    "def generate_short_code():\n",
    "    \"\"\"Generate a random short code.\"\"\"\n",
    "    characters = string.ascii_letters + string.digits\n",
    "    short_code = ''.join(random.choice(characters) for _ in range(6))\n",
    "    return short_code"
   ]
  },
  {
   "cell_type": "code",
   "execution_count": 5,
   "id": "6f91c414",
   "metadata": {},
   "outputs": [],
   "source": [
    "@app.route('/', methods=['GET', 'POST'])\n",
    "def home():\n",
    "    if request.method == 'POST':\n",
    "        original_url = request.form['url']\n",
    "        short_code = generate_short_code()\n",
    "\n",
    "        url_mapping[short_code] = original_url\n",
    "\n",
    "        short_url = request.host_url + short_code\n",
    "        return render_template('index.html', short_url=short_url)\n",
    "\n",
    "    return render_template('index.html')"
   ]
  },
  {
   "cell_type": "code",
   "execution_count": 6,
   "id": "81e6e73d",
   "metadata": {},
   "outputs": [],
   "source": [
    "app.route('/<short_code>')\n",
    "def redirect_to_original_url(short_code):\n",
    "    if short_code in url_mapping:\n",
    "        original_url = url_mapping[short_code]\n",
    "        return redirect(original_url)\n",
    "    else:\n",
    "        return \"Short URL not found.\""
   ]
  },
  {
   "cell_type": "code",
   "execution_count": 7,
   "id": "44e1d8b0",
   "metadata": {},
   "outputs": [
    {
     "name": "stdout",
     "output_type": "stream",
     "text": [
      " * Serving Flask app \"__main__\" (lazy loading)\n",
      " * Environment: production\n",
      "\u001b[31m   WARNING: This is a development server. Do not use it in a production deployment.\u001b[0m\n",
      "\u001b[2m   Use a production WSGI server instead.\u001b[0m\n",
      " * Debug mode: on\n"
     ]
    },
    {
     "name": "stderr",
     "output_type": "stream",
     "text": [
      " * Restarting with watchdog (windowsapi)\n"
     ]
    },
    {
     "ename": "SystemExit",
     "evalue": "1",
     "output_type": "error",
     "traceback": [
      "An exception has occurred, use %tb to see the full traceback.\n",
      "\u001b[1;31mSystemExit\u001b[0m\u001b[1;31m:\u001b[0m 1\n"
     ]
    },
    {
     "name": "stderr",
     "output_type": "stream",
     "text": [
      "C:\\Users\\alexc_dra7fx5\\anaconda3\\lib\\site-packages\\IPython\\core\\interactiveshell.py:3465: UserWarning: To exit: use 'exit', 'quit', or Ctrl-D.\n",
      "  warn(\"To exit: use 'exit', 'quit', or Ctrl-D.\", stacklevel=1)\n"
     ]
    }
   ],
   "source": [
    "if __name__ == '__main__':\n",
    "    app.run(debug=True)"
   ]
  },
  {
   "cell_type": "code",
   "execution_count": null,
   "id": "75632d25",
   "metadata": {},
   "outputs": [],
   "source": []
  }
 ],
 "metadata": {
  "kernelspec": {
   "display_name": "Python 3 (ipykernel)",
   "language": "python",
   "name": "python3"
  },
  "language_info": {
   "codemirror_mode": {
    "name": "ipython",
    "version": 3
   },
   "file_extension": ".py",
   "mimetype": "text/x-python",
   "name": "python",
   "nbconvert_exporter": "python",
   "pygments_lexer": "ipython3",
   "version": "3.9.13"
  }
 },
 "nbformat": 4,
 "nbformat_minor": 5
}
