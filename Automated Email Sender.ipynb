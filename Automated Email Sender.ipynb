{
 "cells": [
  {
   "cell_type": "code",
   "execution_count": 1,
   "id": "cbbdf7b2",
   "metadata": {},
   "outputs": [],
   "source": [
    "import smtplib\n",
    "from email.mime.multipart import MIMEMultipart\n",
    "from email.mime.text import MIMEText"
   ]
  },
  {
   "cell_type": "code",
   "execution_count": 2,
   "id": "db7c0581",
   "metadata": {},
   "outputs": [],
   "source": [
    "def send_email(sender_email, sender_password, recipient_email, subject, message):\n",
    "    # Create a multipart message\n",
    "    msg = MIMEMultipart()\n",
    "    msg['From'] = sender_email\n",
    "    msg['To'] = recipient_email\n",
    "    msg['Subject'] = subject\n",
    "\n",
    "    # Add the message body\n",
    "    msg.attach(MIMEText(message, 'plain'))\n",
    "\n",
    "    # Setup the SMTP server\n",
    "    smtp_server = 'smtp.gmail.com'\n",
    "    smtp_port = 587\n",
    "\n",
    "    try:\n",
    "        # Start the SMTP server connection\n",
    "        server = smtplib.SMTP(smtp_server, smtp_port)\n",
    "        server.starttls()\n",
    "\n",
    "        # Login to the email account\n",
    "        server.login(sender_email, sender_password)\n",
    "\n",
    "        # Send the email\n",
    "        server.sendmail(sender_email, recipient_email, msg.as_string())\n",
    "\n",
    "        print('Email sent successfully!')\n",
    "    except Exception as e:\n",
    "        print('An error occurred while sending the email:', str(e))\n",
    "    finally:\n",
    "        # Terminate the SMTP server connection\n",
    "        server.quit()"
   ]
  },
  {
   "cell_type": "code",
   "execution_count": 3,
   "id": "81e04380",
   "metadata": {},
   "outputs": [
    {
     "name": "stdout",
     "output_type": "stream",
     "text": [
      "An error occurred while sending the email: (535, b'5.7.8 Username and Password not accepted. Learn more at\\n5.7.8  https://support.google.com/mail/?p=BadCredentials o1-20020adfcf01000000b0031c52e81490sm2792357wrj.72 - gsmtp')\n"
     ]
    }
   ],
   "source": [
    "# Example usage\n",
    "sender_email = 'your-email@gmail.com'  # Your Gmail email address\n",
    "sender_password = 'your-password'  # Your Gmail password\n",
    "recipient_email = 'recipient-email@example.com'  # Email address of the recipient\n",
    "subject = 'Automated Email'  # Email subject\n",
    "message = 'Hello, this is an automated email.'  # Email message\n",
    "\n",
    "send_email(sender_email, sender_password, recipient_email, subject, message)"
   ]
  },
  {
   "cell_type": "code",
   "execution_count": null,
   "id": "55b4bcf4",
   "metadata": {},
   "outputs": [],
   "source": []
  }
 ],
 "metadata": {
  "kernelspec": {
   "display_name": "Python 3 (ipykernel)",
   "language": "python",
   "name": "python3"
  },
  "language_info": {
   "codemirror_mode": {
    "name": "ipython",
    "version": 3
   },
   "file_extension": ".py",
   "mimetype": "text/x-python",
   "name": "python",
   "nbconvert_exporter": "python",
   "pygments_lexer": "ipython3",
   "version": "3.9.13"
  }
 },
 "nbformat": 4,
 "nbformat_minor": 5
}
