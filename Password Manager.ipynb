{
 "cells": [
  {
   "cell_type": "code",
   "execution_count": 1,
   "id": "b09fb160",
   "metadata": {},
   "outputs": [],
   "source": [
    "import hashlib\n",
    "import getpass"
   ]
  },
  {
   "cell_type": "code",
   "execution_count": 2,
   "id": "d5cfbb55",
   "metadata": {},
   "outputs": [],
   "source": [
    "passwords = {}"
   ]
  },
  {
   "cell_type": "code",
   "execution_count": 3,
   "id": "cbdcb225",
   "metadata": {},
   "outputs": [],
   "source": [
    "def get_hashed_password(password):\n",
    "    \"\"\"Generate a SHA-256 hashed password.\"\"\"\n",
    "    sha256_hash = hashlib.sha256()\n",
    "    sha256_hash.update(password.encode('utf-8'))\n",
    "    return sha256_hash.hexdigest()"
   ]
  },
  {
   "cell_type": "code",
   "execution_count": 4,
   "id": "f0b523d9",
   "metadata": {},
   "outputs": [],
   "source": [
    "def create_password():\n",
    "    \"\"\"Create a new password entry.\"\"\"\n",
    "    website = input(\"Enter the website: \")\n",
    "    username = input(\"Enter your username: \")\n",
    "    password = getpass.getpass(\"Enter your password: \")\n",
    "    hashed_password = get_hashed_password(password)\n",
    "    passwords[website] = (username, hashed_password)\n",
    "    print(\"Password created successfully.\")"
   ]
  },
  {
   "cell_type": "code",
   "execution_count": 5,
   "id": "3b90c31a",
   "metadata": {},
   "outputs": [],
   "source": [
    "def retrieve_password():\n",
    "    \"\"\"Retrieve a password from the password manager.\"\"\"\n",
    "    website = input(\"Enter the website: \")\n",
    "    if website in passwords:\n",
    "        username, hashed_password = passwords[website]\n",
    "        password = getpass.getpass(\"Enter your password: \")\n",
    "        if hashed_password == get_hashed_password(password):\n",
    "            print(f\"Username: {username}\")\n",
    "            print(f\"Password: {password}\")\n",
    "        else:\n",
    "            print(\"Incorrect password.\")\n",
    "    else:\n",
    "        print(\"Website not found in the password manager.\")"
   ]
  },
  {
   "cell_type": "code",
   "execution_count": 7,
   "id": "cef02ce8",
   "metadata": {},
   "outputs": [],
   "source": [
    "def main():\n",
    "    while True:\n",
    "        print(\"1. Create a new password\")\n",
    "        print(\"2. Retrieve a password\")\n",
    "        print(\"3. Quit\")\n",
    "        choice = input(\"Enter your choice (1-3): \")\n",
    "\n",
    "        if choice == \"1\":\n",
    "            create_password()\n",
    "        elif choice == \"2\":\n",
    "            retrieve_password()\n",
    "        elif choice == \"3\":\n",
    "            break\n",
    "        else:\n",
    "            print(\"Invalid choice. Please try again.\")"
   ]
  },
  {
   "cell_type": "code",
   "execution_count": null,
   "id": "f0c97e03",
   "metadata": {},
   "outputs": [
    {
     "name": "stdout",
     "output_type": "stream",
     "text": [
      "1. Create a new password\n",
      "2. Retrieve a password\n",
      "3. Quit\n"
     ]
    }
   ],
   "source": [
    "if __name__ == \"__main__\":\n",
    "    main()"
   ]
  },
  {
   "cell_type": "code",
   "execution_count": null,
   "id": "d7789002",
   "metadata": {},
   "outputs": [],
   "source": []
  }
 ],
 "metadata": {
  "kernelspec": {
   "display_name": "Python 3 (ipykernel)",
   "language": "python",
   "name": "python3"
  },
  "language_info": {
   "codemirror_mode": {
    "name": "ipython",
    "version": 3
   },
   "file_extension": ".py",
   "mimetype": "text/x-python",
   "name": "python",
   "nbconvert_exporter": "python",
   "pygments_lexer": "ipython3",
   "version": "3.9.13"
  }
 },
 "nbformat": 4,
 "nbformat_minor": 5
}
